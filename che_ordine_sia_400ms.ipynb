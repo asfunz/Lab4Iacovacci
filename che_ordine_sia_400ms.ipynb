{
 "cells": [
  {
   "cell_type": "markdown",
   "id": "3408d0db",
   "metadata": {},
   "source": [
    "# Importo i dati dal file e concateno la stringa per poterla poi riscrivere"
   ]
  },
  {
   "cell_type": "code",
   "execution_count": 30,
   "id": "2d258310",
   "metadata": {},
   "outputs": [],
   "source": [
    "fname = 'acquisizione_dati_grezzi_400ms.txt'\n",
    "\n",
    "with open(fname, 'r') as file:\n",
    "    misura = []\n",
    "    tempo_di_acquisizione = []\n",
    "    numero_di_bytes_in_ingresso = []\n",
    "    stringa_bytes = []\n",
    "    \n",
    "     # Flag per saltare la prima riga\n",
    "    prima_riga = True\n",
    "\n",
    "    # Legge il file riga per riga\n",
    "    for line in file:\n",
    "        # Salta la prima riga\n",
    "        if prima_riga:\n",
    "            prima_riga = False\n",
    "            continue\n",
    "        \n",
    "        columns = line.strip().split('\\t')\n",
    "\n",
    "        misura.append(columns[0])\n",
    "        tempo_di_acquisizione.append(columns[1])\n",
    "        numero_di_bytes_in_ingresso.append(columns[2])\n",
    "        stringa_bytes.append(columns[3])\n",
    "\n",
    "stringa_bytes_concatenata = ''.join(stringa_bytes)"
   ]
  },
  {
   "cell_type": "markdown",
   "id": "66f26220",
   "metadata": {},
   "source": [
    "# Ricerco la posizione della parola di controllo all'interno della mia stringa concatena"
   ]
  },
  {
   "cell_type": "code",
   "execution_count": 31,
   "id": "82efdb94",
   "metadata": {},
   "outputs": [],
   "source": [
    "posizioni_aaaa = []\n",
    "posizione = stringa_bytes_concatenata.find(\"aaaa\")\n",
    "\n",
    "while posizione != -1:\n",
    "    posizioni_aaaa.append(posizione)\n",
    "    posizione = stringa_bytes_concatenata.find(\"aaaa\", posizione + 1)"
   ]
  },
  {
   "cell_type": "markdown",
   "id": "da77ea6e",
   "metadata": {},
   "source": [
    "# Estrazione temperatura ed umidità e conversione in decimale"
   ]
  },
  {
   "cell_type": "code",
   "execution_count": 32,
   "id": "95b6d50d",
   "metadata": {
    "scrolled": false
   },
   "outputs": [],
   "source": [
    "temperatura_convertita = []\n",
    "umidita_relativa_convertita = []\n",
    "\n",
    "for i in posizioni_aaaa:\n",
    "    umidita = str(int(''.join(stringa_bytes_concatenata[i-8:i-4]), 16))\n",
    "    temperatura = str(int(''.join(stringa_bytes_concatenata[i-4:i]),16))\n",
    "    umidita_relativa_convertita.append(umidita)\n",
    "    temperatura_convertita.append(temperatura)"
   ]
  },
  {
   "cell_type": "markdown",
   "id": "64d530a0",
   "metadata": {},
   "source": [
    "# Creazione di un file con i dati convertiti in decimale"
   ]
  },
  {
   "cell_type": "code",
   "execution_count": 33,
   "id": "fc672745",
   "metadata": {},
   "outputs": [],
   "source": [
    "fname = \"Dati_400ms_ordinati\"\n",
    "with open(fname, \"w\", encoding=\"utf-8\") as file:\n",
    "    dati_in_colonna = ['misura', 'tempo di acquisizione', 'umidità relativa', 'temperatura']\n",
    "    file.write(\"\\t\".join(dati_in_colonna) + \"\\n\")\n",
    "    \n",
    "\n",
    "with open(fname, \"a\", encoding=\"utf-8\") as file:\n",
    "    for i in range(len(misura)):\n",
    "        riga = [str(misura[i]), str(tempo_di_acquisizione[i]), str(umidita_relativa_convertita[i]), str(temperatura_convertita[i])]\n",
    "        file.write(\"\\t\".join(riga) + \"\\n\")"
   ]
  },
  {
   "cell_type": "markdown",
   "id": "cad8c812",
   "metadata": {},
   "source": [
    "# Conversione dei dati in valori utili e non pernacchie"
   ]
  },
  {
   "cell_type": "code",
   "execution_count": 34,
   "id": "f601d5f5",
   "metadata": {},
   "outputs": [],
   "source": [
    "umidita_relativa_lineare = [] \n",
    "umidita_relativa_true = []\n",
    "temperatura = []\n",
    "\n",
    "for i in umidita_relativa_convertita[1:]:\n",
    "    a, b, c = -2.0468, 0.0367, -1.5955E-6\n",
    "    relative_humidity = round((a + b*int(i)+ c*int(i)**2), 3)\n",
    "    umidita_relativa_lineare.append(relative_humidity)\n",
    "    \n",
    "    \n",
    "for i in temperatura_convertita[1:]:\n",
    "    a, b = -39.7, 0.01\n",
    "    temperature = round((a + b*int(i)), 3)\n",
    "    temperatura.append(temperature)\n",
    "\n",
    "    \n",
    "for i in range(len(umidita_relativa_lineare)):\n",
    "    t_1, t_2 = 0.01, 0.00008\n",
    "    relative_humidity_true = round((temperatura[i]-25)*(t_1+t_2*int(umidita_relativa_convertita[i+1]))+umidita_relativa_lineare[i],3)\n",
    "    umidita_relativa_true.append(relative_humidity_true)"
   ]
  },
  {
   "cell_type": "markdown",
   "id": "c62ae70b",
   "metadata": {},
   "source": [
    "# Creo il file contenente i dati convertiti "
   ]
  },
  {
   "cell_type": "code",
   "execution_count": 35,
   "id": "a0f7fac4",
   "metadata": {},
   "outputs": [],
   "source": [
    "fname = \"Dati_400ms_convertiti\"\n",
    "with open(fname, \"w\", encoding=\"utf-8\") as file:\n",
    "    dati_in_colonna = ['Misura', 'Tempo di acquisizione (sec)', 'Umidità relativa (%)', 'Temperatura (°C)']\n",
    "    file.write(\"\\t\".join(dati_in_colonna) + \"\\n\")\n",
    "    \n",
    "\n",
    "with open(fname, \"a\", encoding=\"utf-8\") as file:\n",
    "    for i in range(len(misura)):\n",
    "        riga = [str(misura[i]), str(tempo_di_acquisizione[i]), str(umidita_relativa_true[i]), str(temperatura[i])]\n",
    "        file.write(\"\\t\".join(riga) + \"\\n\")"
   ]
  }
 ],
 "metadata": {
  "kernelspec": {
   "display_name": "Python 3 (ipykernel)",
   "language": "python",
   "name": "python3"
  },
  "language_info": {
   "codemirror_mode": {
    "name": "ipython",
    "version": 3
   },
   "file_extension": ".py",
   "mimetype": "text/x-python",
   "name": "python",
   "nbconvert_exporter": "python",
   "pygments_lexer": "ipython3",
   "version": "3.11.5"
  }
 },
 "nbformat": 4,
 "nbformat_minor": 5
}
